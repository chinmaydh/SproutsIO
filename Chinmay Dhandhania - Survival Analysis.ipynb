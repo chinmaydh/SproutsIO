{
 "cells": [
  {
   "cell_type": "markdown",
   "metadata": {},
   "source": [
    "# Survival Analysis of a Cricket Player's Career\n",
    "\n",
    "\n",
    "#### - Statistical Analysis by Chinmay Dhandhania"
   ]
  },
  {
   "cell_type": "markdown",
   "metadata": {},
   "source": [
    "## Introduction"
   ]
  },
  {
   "cell_type": "markdown",
   "metadata": {},
   "source": [
    "Dear SproutsIO,\n",
    "\n",
    "I have compiled this notebook for your easy viewing from my individual project of last semester. \n",
    "\n",
    "The code and data model is based on the game of Cricket, a game that is not very popular in the US. If you get really interested in this model and want to know more about how the game works, you can read it here - https://en.wikipedia.org/wiki/Cricket"
   ]
  },
  {
   "cell_type": "markdown",
   "metadata": {},
   "source": [
    "#### This notebook is about the application of Survival Analysis in cricket - to analyze the career lengths of players."
   ]
  },
  {
   "cell_type": "markdown",
   "metadata": {},
   "source": [
    "* Survival Analysis has been described in length by various resources, the source that inspired and helped me make this project is Chapter 13 in Think Stats - http://greenteapress.com/thinkstats2/thinkstats2.pdf"
   ]
  },
  {
   "cell_type": "markdown",
   "metadata": {},
   "source": [
    "* Survival Analyisis is used in areas where the time duration of a sample of observations is analysed until an event of **death** occurs."
   ]
  },
  {
   "cell_type": "markdown",
   "metadata": {},
   "source": [
    "### Survival Analysis in Cricket\n",
    "* This is an attempt to extend this statistical concept into the field of cricket - to analyze the career lengths of players."
   ]
  },
  {
   "cell_type": "markdown",
   "metadata": {},
   "source": [
    "* The event of death in this case is the event when players retire from active cricket.\n",
    "\n",
    "* I have tried to analyze all the players who have played cricket. "
   ]
  },
  {
   "cell_type": "markdown",
   "metadata": {},
   "source": [
    "<a id='experiment'></a>"
   ]
  },
  {
   "cell_type": "markdown",
   "metadata": {},
   "source": [
    "## Experiment"
   ]
  },
  {
   "cell_type": "markdown",
   "metadata": {},
   "source": [
    "- There isn't any readily available data when it comes to cricket yet - ESPNCricinfo (http://www.espncricinfo.com/) still doesn't provide an API to use its StatsGuru (http://stats.espncricinfo.com/ci/engine/stats/index.html) database machine - so I had to scrape the data from the Statsguru webpages to acquire the data.\n",
    "- This is the scraped URL : http://goo.gl/kbVLNL"
   ]
  },
  {
   "cell_type": "code",
   "execution_count": 1,
   "metadata": {
    "collapsed": false
   },
   "outputs": [],
   "source": [
    "%matplotlib inline\n",
    "from bs4 import BeautifulSoup\n",
    "import requests\n",
    "import pandas as pd\n",
    "import lifelines\n",
    "import matplotlib\n",
    "import numpy as np\n",
    "import matplotlib.pyplot as plt\n",
    "matplotlib.style.use('ggplot')"
   ]
  },
  {
   "cell_type": "markdown",
   "metadata": {},
   "source": [
    "<a id='scraping'></a>"
   ]
  },
  {
   "cell_type": "markdown",
   "metadata": {},
   "source": [
    "### Scraping\n",
    "Writing the code to scrape the important data from the url page."
   ]
  },
  {
   "cell_type": "code",
   "execution_count": 2,
   "metadata": {
    "collapsed": true
   },
   "outputs": [],
   "source": [
    "mycricketurl = 'http://stats.espncricinfo.com/ci/engine/stats/index.html?class=2;filter=advanced;orderby=runs;page=1;size=200;template=results;type=batting'"
   ]
  },
  {
   "cell_type": "code",
   "execution_count": 3,
   "metadata": {
    "collapsed": true
   },
   "outputs": [],
   "source": [
    "def scrape_data(page_count):\n",
    "    \"\"\"\n",
    "    scrapes the required data present in the form of a table from the given url\n",
    "    :param url: page of the ESPNCricinfo Stats URL query\n",
    "    :return: the raw unicode text\n",
    "    \"\"\"\n",
    "    url = mycricketurl\n",
    "    complete_url = url.partition('page=1')[0] + \"page=\" + str(page_count) + url.partition('page=1')[-1]\n",
    "    r = requests.get(complete_url)\n",
    "    data = r.text\n",
    "    soup = BeautifulSoup(data)\n",
    "    table = soup.find_all('table')\n",
    "    return table[2].text"
   ]
  },
  {
   "cell_type": "markdown",
   "metadata": {},
   "source": [
    "<a id='data_cleaning'></a>"
   ]
  },
  {
   "cell_type": "markdown",
   "metadata": {},
   "source": [
    "### Data Cleaning\n",
    "I am now removing all the whitespace and noise from the data"
   ]
  },
  {
   "cell_type": "code",
   "execution_count": 4,
   "metadata": {
    "collapsed": true
   },
   "outputs": [],
   "source": [
    "def clean_data(text):\n",
    "    \n",
    "    text = text.split('\\n')\n",
    "    text.remove(u'Overall figures')\n",
    "    return text"
   ]
  },
  {
   "cell_type": "markdown",
   "metadata": {},
   "source": [
    "<a id='data_transformation'></a>"
   ]
  },
  {
   "cell_type": "markdown",
   "metadata": {},
   "source": [
    "### Data Transformation\n",
    "\n",
    "\n",
    "I am now converting the text into a dataframe and making it readable"
   ]
  },
  {
   "cell_type": "code",
   "execution_count": 5,
   "metadata": {
    "collapsed": true
   },
   "outputs": [],
   "source": [
    "def create_data():\n",
    "    \"\"\"\n",
    "    scrapes the data, cleans it and transforms the data to load into a pandas dataframe\n",
    "    \"\"\"\n",
    "    page_count = 12\n",
    "    df = pd.DataFrame()\n",
    "    get_list_columns = lambda text, start_index, end_index: [str(unicode_text)\n",
    "                                                                for unicode_text in text][start_index:end_index]\n",
    "    get_data_rows = lambda text, start_index: text[start_index:]\n",
    "    remove_all_occurences = lambda data, item: [x for x in data if x != item]\n",
    "    get_list_rows = lambda data: [data[index: index + 13] for index, row in enumerate(data) if index % 13 == 0]\n",
    "    for page in range(1, page_count + 1):\n",
    "        raw_text = scrape_data(page)\n",
    "        clean_text = clean_data(raw_text)\n",
    "        list_columns = get_list_columns(clean_text, 3, 16)\n",
    "        data_rows = get_data_rows(clean_text, 16)\n",
    "        data_rows = remove_all_occurences(data_rows, u'')\n",
    "        list_rows = get_list_rows(data_rows)\n",
    "        df_new = pd.DataFrame(list_rows, columns=list_columns)\n",
    "        if len(df) == 0:\n",
    "            df = df_new\n",
    "        else:\n",
    "            df = pd.concat([df, df_new])\n",
    "    return df"
   ]
  },
  {
   "cell_type": "code",
   "execution_count": 6,
   "metadata": {
    "collapsed": false
   },
   "outputs": [
    {
     "name": "stderr",
     "output_type": "stream",
     "text": [
      "C:\\Anaconda2\\lib\\site-packages\\bs4\\__init__.py:166: UserWarning: No parser was explicitly specified, so I'm using the best available HTML parser for this system (\"lxml\"). This usually isn't a problem, but if you run this code on another system, or in a different virtual environment, it may use a different parser and behave differently.\n",
      "\n",
      "To get rid of this warning, change this:\n",
      "\n",
      " BeautifulSoup([your markup])\n",
      "\n",
      "to this:\n",
      "\n",
      " BeautifulSoup([your markup], \"lxml\")\n",
      "\n",
      "  markup_type=markup_type))\n"
     ]
    }
   ],
   "source": [
    "df_full = create_data()\n",
    "df_full = df_full.reset_index(drop=True)"
   ]
  },
  {
   "cell_type": "markdown",
   "metadata": {},
   "source": [
    "Now saving the data to a csv file for consistency and ease"
   ]
  },
  {
   "cell_type": "code",
   "execution_count": 7,
   "metadata": {
    "collapsed": false
   },
   "outputs": [],
   "source": [
    "df_full.to_csv('cricinfo_oct2.csv')"
   ]
  },
  {
   "cell_type": "code",
   "execution_count": 8,
   "metadata": {
    "collapsed": false
   },
   "outputs": [
    {
     "data": {
      "text/plain": [
       "2280"
      ]
     },
     "execution_count": 8,
     "metadata": {},
     "output_type": "execute_result"
    }
   ],
   "source": [
    "len(df_full)"
   ]
  },
  {
   "cell_type": "markdown",
   "metadata": {},
   "source": [
    "* There are totally 2280 players who have played cricket at the international level"
   ]
  },
  {
   "cell_type": "markdown",
   "metadata": {},
   "source": [
    "Check out the sample of the data for better understanding the rest of the project."
   ]
  },
  {
   "cell_type": "code",
   "execution_count": 9,
   "metadata": {
    "collapsed": false
   },
   "outputs": [
    {
     "data": {
      "text/html": [
       "<div>\n",
       "<table border=\"1\" class=\"dataframe\">\n",
       "  <thead>\n",
       "    <tr style=\"text-align: right;\">\n",
       "      <th></th>\n",
       "      <th>Player</th>\n",
       "      <th>Span</th>\n",
       "      <th>Mat</th>\n",
       "      <th>Inns</th>\n",
       "      <th>NO</th>\n",
       "      <th>Runs</th>\n",
       "      <th>HS</th>\n",
       "      <th>Ave</th>\n",
       "      <th>BF</th>\n",
       "      <th>SR</th>\n",
       "      <th>100</th>\n",
       "      <th>50</th>\n",
       "      <th>0</th>\n",
       "    </tr>\n",
       "  </thead>\n",
       "  <tbody>\n",
       "    <tr>\n",
       "      <th>0</th>\n",
       "      <td>SR Tendulkar (India)</td>\n",
       "      <td>1989-2012</td>\n",
       "      <td>463</td>\n",
       "      <td>452</td>\n",
       "      <td>41</td>\n",
       "      <td>18426</td>\n",
       "      <td>200*</td>\n",
       "      <td>44.83</td>\n",
       "      <td>21367</td>\n",
       "      <td>86.23</td>\n",
       "      <td>49</td>\n",
       "      <td>96</td>\n",
       "      <td>20</td>\n",
       "    </tr>\n",
       "    <tr>\n",
       "      <th>1</th>\n",
       "      <td>KC Sangakkara (Asia/ICC/SL)</td>\n",
       "      <td>2000-2015</td>\n",
       "      <td>404</td>\n",
       "      <td>380</td>\n",
       "      <td>41</td>\n",
       "      <td>14234</td>\n",
       "      <td>169</td>\n",
       "      <td>41.98</td>\n",
       "      <td>18048</td>\n",
       "      <td>78.86</td>\n",
       "      <td>25</td>\n",
       "      <td>93</td>\n",
       "      <td>15</td>\n",
       "    </tr>\n",
       "    <tr>\n",
       "      <th>2</th>\n",
       "      <td>RT Ponting (Aus/ICC)</td>\n",
       "      <td>1995-2012</td>\n",
       "      <td>375</td>\n",
       "      <td>365</td>\n",
       "      <td>39</td>\n",
       "      <td>13704</td>\n",
       "      <td>164</td>\n",
       "      <td>42.03</td>\n",
       "      <td>17046</td>\n",
       "      <td>80.39</td>\n",
       "      <td>30</td>\n",
       "      <td>82</td>\n",
       "      <td>20</td>\n",
       "    </tr>\n",
       "    <tr>\n",
       "      <th>3</th>\n",
       "      <td>ST Jayasuriya (Asia/SL)</td>\n",
       "      <td>1989-2011</td>\n",
       "      <td>445</td>\n",
       "      <td>433</td>\n",
       "      <td>18</td>\n",
       "      <td>13430</td>\n",
       "      <td>189</td>\n",
       "      <td>32.36</td>\n",
       "      <td>14725</td>\n",
       "      <td>91.20</td>\n",
       "      <td>28</td>\n",
       "      <td>68</td>\n",
       "      <td>34</td>\n",
       "    </tr>\n",
       "    <tr>\n",
       "      <th>4</th>\n",
       "      <td>DPMD Jayawardene (Asia/SL)</td>\n",
       "      <td>1998-2015</td>\n",
       "      <td>448</td>\n",
       "      <td>418</td>\n",
       "      <td>39</td>\n",
       "      <td>12650</td>\n",
       "      <td>144</td>\n",
       "      <td>33.37</td>\n",
       "      <td>16020</td>\n",
       "      <td>78.96</td>\n",
       "      <td>19</td>\n",
       "      <td>77</td>\n",
       "      <td>28</td>\n",
       "    </tr>\n",
       "  </tbody>\n",
       "</table>\n",
       "</div>"
      ],
      "text/plain": [
       "                        Player       Span  Mat Inns  NO   Runs    HS    Ave  \\\n",
       "0         SR Tendulkar (India)  1989-2012  463  452  41  18426  200*  44.83   \n",
       "1  KC Sangakkara (Asia/ICC/SL)  2000-2015  404  380  41  14234   169  41.98   \n",
       "2         RT Ponting (Aus/ICC)  1995-2012  375  365  39  13704   164  42.03   \n",
       "3      ST Jayasuriya (Asia/SL)  1989-2011  445  433  18  13430   189  32.36   \n",
       "4   DPMD Jayawardene (Asia/SL)  1998-2015  448  418  39  12650   144  33.37   \n",
       "\n",
       "      BF     SR 100  50   0  \n",
       "0  21367  86.23  49  96  20  \n",
       "1  18048  78.86  25  93  15  \n",
       "2  17046  80.39  30  82  20  \n",
       "3  14725  91.20  28  68  34  \n",
       "4  16020  78.96  19  77  28  "
      ]
     },
     "execution_count": 9,
     "metadata": {},
     "output_type": "execute_result"
    }
   ],
   "source": [
    "df_full.head()"
   ]
  },
  {
   "cell_type": "markdown",
   "metadata": {},
   "source": [
    "Renaming the columns to access them easier"
   ]
  },
  {
   "cell_type": "code",
   "execution_count": 10,
   "metadata": {
    "collapsed": false
   },
   "outputs": [],
   "source": [
    "df_full.columns = ['player', 'span', 'mat', 'inns', 'not_outs', 'runs', 'high_score', 'ave', 'bf', 'sr', 'n_100', 'n_50', 'n_0']"
   ]
  },
  {
   "cell_type": "markdown",
   "metadata": {},
   "source": [
    "* Since the variable we require is the length of the player's career,we extract only two columns - the name of the player and the span(duration of career) from the original dataframe."
   ]
  },
  {
   "cell_type": "code",
   "execution_count": 11,
   "metadata": {
    "collapsed": false
   },
   "outputs": [],
   "source": [
    "dataf_span = df_full[['player','span']]"
   ]
  },
  {
   "cell_type": "code",
   "execution_count": 12,
   "metadata": {
    "collapsed": false
   },
   "outputs": [
    {
     "data": {
      "text/html": [
       "<div>\n",
       "<table border=\"1\" class=\"dataframe\">\n",
       "  <thead>\n",
       "    <tr style=\"text-align: right;\">\n",
       "      <th></th>\n",
       "      <th>player</th>\n",
       "      <th>span</th>\n",
       "    </tr>\n",
       "  </thead>\n",
       "  <tbody>\n",
       "    <tr>\n",
       "      <th>0</th>\n",
       "      <td>SR Tendulkar (India)</td>\n",
       "      <td>1989-2012</td>\n",
       "    </tr>\n",
       "    <tr>\n",
       "      <th>1</th>\n",
       "      <td>KC Sangakkara (Asia/ICC/SL)</td>\n",
       "      <td>2000-2015</td>\n",
       "    </tr>\n",
       "    <tr>\n",
       "      <th>2</th>\n",
       "      <td>RT Ponting (Aus/ICC)</td>\n",
       "      <td>1995-2012</td>\n",
       "    </tr>\n",
       "    <tr>\n",
       "      <th>3</th>\n",
       "      <td>ST Jayasuriya (Asia/SL)</td>\n",
       "      <td>1989-2011</td>\n",
       "    </tr>\n",
       "    <tr>\n",
       "      <th>4</th>\n",
       "      <td>DPMD Jayawardene (Asia/SL)</td>\n",
       "      <td>1998-2015</td>\n",
       "    </tr>\n",
       "  </tbody>\n",
       "</table>\n",
       "</div>"
      ],
      "text/plain": [
       "                        player       span\n",
       "0         SR Tendulkar (India)  1989-2012\n",
       "1  KC Sangakkara (Asia/ICC/SL)  2000-2015\n",
       "2         RT Ponting (Aus/ICC)  1995-2012\n",
       "3      ST Jayasuriya (Asia/SL)  1989-2011\n",
       "4   DPMD Jayawardene (Asia/SL)  1998-2015"
      ]
     },
     "execution_count": 12,
     "metadata": {},
     "output_type": "execute_result"
    }
   ],
   "source": [
    "dataf_span.head()"
   ]
  },
  {
   "cell_type": "markdown",
   "metadata": {},
   "source": [
    "Information required for further analysis:\n",
    "       - Career start date\n",
    "       - Career end date\n",
    "       - Country\n",
    "   The reason being, the players can be grouped into cohorts and the survival curve of these cohorts can be compared to find any insights."
   ]
  },
  {
   "cell_type": "markdown",
   "metadata": {},
   "source": [
    "* Creating additional columns - 'career start date' and 'career end date' to "
   ]
  },
  {
   "cell_type": "code",
   "execution_count": 13,
   "metadata": {
    "collapsed": true
   },
   "outputs": [],
   "source": [
    "# disables warning\n",
    "pd.options.mode.chained_assignment = None\n",
    "dataf_span['career_starting_at'] = [int(span.partition('-')[0]) for span in dataf_span.span]\n",
    "dataf_span['career_ending_at'] = [int(span.partition('-')[-1]) for span in dataf_span.span]"
   ]
  },
  {
   "cell_type": "code",
   "execution_count": 14,
   "metadata": {
    "collapsed": false
   },
   "outputs": [
    {
     "data": {
      "text/html": [
       "<div>\n",
       "<table border=\"1\" class=\"dataframe\">\n",
       "  <thead>\n",
       "    <tr style=\"text-align: right;\">\n",
       "      <th></th>\n",
       "      <th>player</th>\n",
       "      <th>span</th>\n",
       "      <th>career_starting_at</th>\n",
       "      <th>career_ending_at</th>\n",
       "    </tr>\n",
       "  </thead>\n",
       "  <tbody>\n",
       "    <tr>\n",
       "      <th>0</th>\n",
       "      <td>SR Tendulkar (India)</td>\n",
       "      <td>1989-2012</td>\n",
       "      <td>1989</td>\n",
       "      <td>2012</td>\n",
       "    </tr>\n",
       "    <tr>\n",
       "      <th>1</th>\n",
       "      <td>KC Sangakkara (Asia/ICC/SL)</td>\n",
       "      <td>2000-2015</td>\n",
       "      <td>2000</td>\n",
       "      <td>2015</td>\n",
       "    </tr>\n",
       "    <tr>\n",
       "      <th>2</th>\n",
       "      <td>RT Ponting (Aus/ICC)</td>\n",
       "      <td>1995-2012</td>\n",
       "      <td>1995</td>\n",
       "      <td>2012</td>\n",
       "    </tr>\n",
       "    <tr>\n",
       "      <th>3</th>\n",
       "      <td>ST Jayasuriya (Asia/SL)</td>\n",
       "      <td>1989-2011</td>\n",
       "      <td>1989</td>\n",
       "      <td>2011</td>\n",
       "    </tr>\n",
       "    <tr>\n",
       "      <th>4</th>\n",
       "      <td>DPMD Jayawardene (Asia/SL)</td>\n",
       "      <td>1998-2015</td>\n",
       "      <td>1998</td>\n",
       "      <td>2015</td>\n",
       "    </tr>\n",
       "  </tbody>\n",
       "</table>\n",
       "</div>"
      ],
      "text/plain": [
       "                        player       span  career_starting_at  \\\n",
       "0         SR Tendulkar (India)  1989-2012                1989   \n",
       "1  KC Sangakkara (Asia/ICC/SL)  2000-2015                2000   \n",
       "2         RT Ponting (Aus/ICC)  1995-2012                1995   \n",
       "3      ST Jayasuriya (Asia/SL)  1989-2011                1989   \n",
       "4   DPMD Jayawardene (Asia/SL)  1998-2015                1998   \n",
       "\n",
       "   career_ending_at  \n",
       "0              2012  \n",
       "1              2015  \n",
       "2              2012  \n",
       "3              2011  \n",
       "4              2015  "
      ]
     },
     "execution_count": 14,
     "metadata": {},
     "output_type": "execute_result"
    }
   ],
   "source": [
    "dataf_span.head()"
   ]
  },
  {
   "cell_type": "markdown",
   "metadata": {},
   "source": [
    "Adding another column - 'career_length' which is obtained from subtracting the above two columns"
   ]
  },
  {
   "cell_type": "code",
   "execution_count": 15,
   "metadata": {
    "collapsed": false
   },
   "outputs": [],
   "source": [
    "length_of_career = lambda df: [row.career_ending_at - row.career_starting_at + 1 for index, row in df.iterrows()]\n",
    "dataf_span['career_length'] = length_of_career(dataf_span)"
   ]
  },
  {
   "cell_type": "code",
   "execution_count": 16,
   "metadata": {
    "collapsed": false
   },
   "outputs": [
    {
     "data": {
      "text/html": [
       "<div>\n",
       "<table border=\"1\" class=\"dataframe\">\n",
       "  <thead>\n",
       "    <tr style=\"text-align: right;\">\n",
       "      <th></th>\n",
       "      <th>player</th>\n",
       "      <th>span</th>\n",
       "      <th>career_starting_at</th>\n",
       "      <th>career_ending_at</th>\n",
       "      <th>career_length</th>\n",
       "    </tr>\n",
       "  </thead>\n",
       "  <tbody>\n",
       "    <tr>\n",
       "      <th>0</th>\n",
       "      <td>SR Tendulkar (India)</td>\n",
       "      <td>1989-2012</td>\n",
       "      <td>1989</td>\n",
       "      <td>2012</td>\n",
       "      <td>24</td>\n",
       "    </tr>\n",
       "    <tr>\n",
       "      <th>1</th>\n",
       "      <td>KC Sangakkara (Asia/ICC/SL)</td>\n",
       "      <td>2000-2015</td>\n",
       "      <td>2000</td>\n",
       "      <td>2015</td>\n",
       "      <td>16</td>\n",
       "    </tr>\n",
       "    <tr>\n",
       "      <th>2</th>\n",
       "      <td>RT Ponting (Aus/ICC)</td>\n",
       "      <td>1995-2012</td>\n",
       "      <td>1995</td>\n",
       "      <td>2012</td>\n",
       "      <td>18</td>\n",
       "    </tr>\n",
       "    <tr>\n",
       "      <th>3</th>\n",
       "      <td>ST Jayasuriya (Asia/SL)</td>\n",
       "      <td>1989-2011</td>\n",
       "      <td>1989</td>\n",
       "      <td>2011</td>\n",
       "      <td>23</td>\n",
       "    </tr>\n",
       "    <tr>\n",
       "      <th>4</th>\n",
       "      <td>DPMD Jayawardene (Asia/SL)</td>\n",
       "      <td>1998-2015</td>\n",
       "      <td>1998</td>\n",
       "      <td>2015</td>\n",
       "      <td>18</td>\n",
       "    </tr>\n",
       "  </tbody>\n",
       "</table>\n",
       "</div>"
      ],
      "text/plain": [
       "                        player       span  career_starting_at  \\\n",
       "0         SR Tendulkar (India)  1989-2012                1989   \n",
       "1  KC Sangakkara (Asia/ICC/SL)  2000-2015                2000   \n",
       "2         RT Ponting (Aus/ICC)  1995-2012                1995   \n",
       "3      ST Jayasuriya (Asia/SL)  1989-2011                1989   \n",
       "4   DPMD Jayawardene (Asia/SL)  1998-2015                1998   \n",
       "\n",
       "   career_ending_at  career_length  \n",
       "0              2012             24  \n",
       "1              2015             16  \n",
       "2              2012             18  \n",
       "3              2011             23  \n",
       "4              2015             18  "
      ]
     },
     "execution_count": 16,
     "metadata": {},
     "output_type": "execute_result"
    }
   ],
   "source": [
    "dataf_span.head()"
   ]
  },
  {
   "cell_type": "markdown",
   "metadata": {},
   "source": [
    "The country of the player has not been represented, though it has been included within the player's name. Having \n",
    "the country as a column can be quite useful."
   ]
  },
  {
   "cell_type": "code",
   "execution_count": 17,
   "metadata": {
    "collapsed": false
   },
   "outputs": [],
   "source": [
    "get_name = lambda player : [every_player.partition(' (')[0] for every_player in player]\n",
    "dataf_span['name'] = get_name(dataf_span.player)"
   ]
  },
  {
   "cell_type": "code",
   "execution_count": 18,
   "metadata": {
    "collapsed": true
   },
   "outputs": [],
   "source": [
    "get_country = lambda player: [every_player[every_player.index('(')+1:every_player.index(')')] for every_player in player]\n",
    "dataf_span['country'] = get_country(dataf_span.player)"
   ]
  },
  {
   "cell_type": "markdown",
   "metadata": {},
   "source": [
    "* Certain players however have played for more than 1 team - Asia/ ICC etc. Such countries don't make any change and\n",
    "have to be removed.\n",
    "* Certain players like Kepler Wessels, Eoin Morgan have played for more than 1 country - for sake of simplicity, \n",
    "such players are ignored as their career lengths will be longer - forming outliers."
   ]
  },
  {
   "cell_type": "code",
   "execution_count": 19,
   "metadata": {
    "collapsed": false
   },
   "outputs": [],
   "source": [
    "remove_forward_slash = lambda country: [every_country.replace('/', '') for every_country in country]\n",
    "dataf_span['country'] = remove_forward_slash(dataf_span.country)"
   ]
  },
  {
   "cell_type": "markdown",
   "metadata": {},
   "source": [
    "Considering players belonging to the 'Full members' of ICC as the associate countries' data may be noisy, creating outliers"
   ]
  },
  {
   "cell_type": "code",
   "execution_count": 20,
   "metadata": {
    "collapsed": false
   },
   "outputs": [],
   "source": [
    "list_countries = lambda country : ['India' if 'India' in every_country\n",
    "                 else 'SL' if 'SL' in every_country\n",
    "                 else 'SA' if 'SA' in every_country\n",
    "                 else 'Aus' if 'Aus' in every_country\n",
    "                 else 'Pak' if 'Pak' in every_country\n",
    "                 else 'WI' if 'WI' in every_country\n",
    "                 else 'NZ' if 'NZ' in every_country\n",
    "                 else 'Zim' if 'Zim' in every_country\n",
    "                 else 'Eng' if 'Eng' in every_country\n",
    "                 else 'Ban' if 'Ban' in every_country\n",
    "                 else None for every_country in country]\n",
    "dataf_span['country'] =  list_countries(dataf_span.country)"
   ]
  },
  {
   "cell_type": "code",
   "execution_count": 21,
   "metadata": {
    "collapsed": false
   },
   "outputs": [],
   "source": [
    "dataf_span = dataf_span[dataf_span.country.notnull()]"
   ]
  },
  {
   "cell_type": "code",
   "execution_count": 22,
   "metadata": {
    "collapsed": false
   },
   "outputs": [
    {
     "data": {
      "text/html": [
       "<div>\n",
       "<table border=\"1\" class=\"dataframe\">\n",
       "  <thead>\n",
       "    <tr style=\"text-align: right;\">\n",
       "      <th></th>\n",
       "      <th>player</th>\n",
       "      <th>span</th>\n",
       "      <th>career_starting_at</th>\n",
       "      <th>career_ending_at</th>\n",
       "      <th>career_length</th>\n",
       "      <th>name</th>\n",
       "      <th>country</th>\n",
       "    </tr>\n",
       "  </thead>\n",
       "  <tbody>\n",
       "    <tr>\n",
       "      <th>0</th>\n",
       "      <td>SR Tendulkar (India)</td>\n",
       "      <td>1989-2012</td>\n",
       "      <td>1989</td>\n",
       "      <td>2012</td>\n",
       "      <td>24</td>\n",
       "      <td>SR Tendulkar</td>\n",
       "      <td>India</td>\n",
       "    </tr>\n",
       "    <tr>\n",
       "      <th>1</th>\n",
       "      <td>KC Sangakkara (Asia/ICC/SL)</td>\n",
       "      <td>2000-2015</td>\n",
       "      <td>2000</td>\n",
       "      <td>2015</td>\n",
       "      <td>16</td>\n",
       "      <td>KC Sangakkara</td>\n",
       "      <td>SL</td>\n",
       "    </tr>\n",
       "    <tr>\n",
       "      <th>2</th>\n",
       "      <td>RT Ponting (Aus/ICC)</td>\n",
       "      <td>1995-2012</td>\n",
       "      <td>1995</td>\n",
       "      <td>2012</td>\n",
       "      <td>18</td>\n",
       "      <td>RT Ponting</td>\n",
       "      <td>Aus</td>\n",
       "    </tr>\n",
       "    <tr>\n",
       "      <th>3</th>\n",
       "      <td>ST Jayasuriya (Asia/SL)</td>\n",
       "      <td>1989-2011</td>\n",
       "      <td>1989</td>\n",
       "      <td>2011</td>\n",
       "      <td>23</td>\n",
       "      <td>ST Jayasuriya</td>\n",
       "      <td>SL</td>\n",
       "    </tr>\n",
       "    <tr>\n",
       "      <th>4</th>\n",
       "      <td>DPMD Jayawardene (Asia/SL)</td>\n",
       "      <td>1998-2015</td>\n",
       "      <td>1998</td>\n",
       "      <td>2015</td>\n",
       "      <td>18</td>\n",
       "      <td>DPMD Jayawardene</td>\n",
       "      <td>SL</td>\n",
       "    </tr>\n",
       "  </tbody>\n",
       "</table>\n",
       "</div>"
      ],
      "text/plain": [
       "                        player       span  career_starting_at  \\\n",
       "0         SR Tendulkar (India)  1989-2012                1989   \n",
       "1  KC Sangakkara (Asia/ICC/SL)  2000-2015                2000   \n",
       "2         RT Ponting (Aus/ICC)  1995-2012                1995   \n",
       "3      ST Jayasuriya (Asia/SL)  1989-2011                1989   \n",
       "4   DPMD Jayawardene (Asia/SL)  1998-2015                1998   \n",
       "\n",
       "   career_ending_at  career_length              name country  \n",
       "0              2012             24      SR Tendulkar   India  \n",
       "1              2015             16     KC Sangakkara      SL  \n",
       "2              2012             18        RT Ponting     Aus  \n",
       "3              2011             23     ST Jayasuriya      SL  \n",
       "4              2015             18  DPMD Jayawardene      SL  "
      ]
     },
     "execution_count": 22,
     "metadata": {},
     "output_type": "execute_result"
    }
   ],
   "source": [
    "dataf_span.head()"
   ]
  },
  {
   "cell_type": "markdown",
   "metadata": {},
   "source": [
    "Dropping columns 'player' and 'span' from the dataframe"
   ]
  },
  {
   "cell_type": "code",
   "execution_count": 23,
   "metadata": {
    "collapsed": true
   },
   "outputs": [],
   "source": [
    "dataf_span = dataf_span.drop('player', 1)"
   ]
  },
  {
   "cell_type": "code",
   "execution_count": 24,
   "metadata": {
    "collapsed": false
   },
   "outputs": [],
   "source": [
    "dataf_span = dataf_span.drop('span', 1)"
   ]
  },
  {
   "cell_type": "markdown",
   "metadata": {},
   "source": [
    "Reordering the columns"
   ]
  },
  {
   "cell_type": "code",
   "execution_count": 25,
   "metadata": {
    "collapsed": false
   },
   "outputs": [],
   "source": [
    "dataf_span = dataf_span[['name', 'country', 'career_starting_at', 'career_ending_at', 'career_length']]"
   ]
  },
  {
   "cell_type": "code",
   "execution_count": 26,
   "metadata": {
    "collapsed": false
   },
   "outputs": [
    {
     "data": {
      "text/html": [
       "<div>\n",
       "<table border=\"1\" class=\"dataframe\">\n",
       "  <thead>\n",
       "    <tr style=\"text-align: right;\">\n",
       "      <th></th>\n",
       "      <th>name</th>\n",
       "      <th>country</th>\n",
       "      <th>career_starting_at</th>\n",
       "      <th>career_ending_at</th>\n",
       "      <th>career_length</th>\n",
       "    </tr>\n",
       "  </thead>\n",
       "  <tbody>\n",
       "    <tr>\n",
       "      <th>0</th>\n",
       "      <td>SR Tendulkar</td>\n",
       "      <td>India</td>\n",
       "      <td>1989</td>\n",
       "      <td>2012</td>\n",
       "      <td>24</td>\n",
       "    </tr>\n",
       "    <tr>\n",
       "      <th>1</th>\n",
       "      <td>KC Sangakkara</td>\n",
       "      <td>SL</td>\n",
       "      <td>2000</td>\n",
       "      <td>2015</td>\n",
       "      <td>16</td>\n",
       "    </tr>\n",
       "    <tr>\n",
       "      <th>2</th>\n",
       "      <td>RT Ponting</td>\n",
       "      <td>Aus</td>\n",
       "      <td>1995</td>\n",
       "      <td>2012</td>\n",
       "      <td>18</td>\n",
       "    </tr>\n",
       "    <tr>\n",
       "      <th>3</th>\n",
       "      <td>ST Jayasuriya</td>\n",
       "      <td>SL</td>\n",
       "      <td>1989</td>\n",
       "      <td>2011</td>\n",
       "      <td>23</td>\n",
       "    </tr>\n",
       "    <tr>\n",
       "      <th>4</th>\n",
       "      <td>DPMD Jayawardene</td>\n",
       "      <td>SL</td>\n",
       "      <td>1998</td>\n",
       "      <td>2015</td>\n",
       "      <td>18</td>\n",
       "    </tr>\n",
       "  </tbody>\n",
       "</table>\n",
       "</div>"
      ],
      "text/plain": [
       "               name country  career_starting_at  career_ending_at  \\\n",
       "0      SR Tendulkar   India                1989              2012   \n",
       "1     KC Sangakkara      SL                2000              2015   \n",
       "2        RT Ponting     Aus                1995              2012   \n",
       "3     ST Jayasuriya      SL                1989              2011   \n",
       "4  DPMD Jayawardene      SL                1998              2015   \n",
       "\n",
       "   career_length  \n",
       "0             24  \n",
       "1             16  \n",
       "2             18  \n",
       "3             23  \n",
       "4             18  "
      ]
     },
     "execution_count": 26,
     "metadata": {},
     "output_type": "execute_result"
    }
   ],
   "source": [
    "dataf_span.head()"
   ]
  },
  {
   "cell_type": "markdown",
   "metadata": {},
   "source": [
    "<a id='censoring_data'></a>"
   ]
  },
  {
   "cell_type": "markdown",
   "metadata": {},
   "source": [
    "## Censoring the data"
   ]
  },
  {
   "cell_type": "code",
   "execution_count": 27,
   "metadata": {
    "collapsed": false
   },
   "outputs": [],
   "source": [
    "# entering 1 intially for all players\n",
    "dataf_span['censor'] = [1 if every_player.career_ending_at <= 2011 else 0 for index,every_player in dataf_span.iterrows()]"
   ]
  },
  {
   "cell_type": "markdown",
   "metadata": {
    "collapsed": true
   },
   "source": [
    "* censor label : 1 means that player has retired, 0 means that the player has an active playing career."
   ]
  },
  {
   "cell_type": "code",
   "execution_count": 28,
   "metadata": {
    "collapsed": false,
    "scrolled": true
   },
   "outputs": [],
   "source": [
    "#re-ordering index of dataframe\n",
    "dataf_span.reset_index(drop=True);"
   ]
  },
  {
   "cell_type": "code",
   "execution_count": 29,
   "metadata": {
    "collapsed": true
   },
   "outputs": [],
   "source": [
    "# converting dataframe to csv to manually alter it\n",
    "dataf_span.to_csv('censor_oct2.csv')"
   ]
  },
  {
   "cell_type": "code",
   "execution_count": 30,
   "metadata": {
    "collapsed": false
   },
   "outputs": [],
   "source": [
    "dataf_censor = pd.read_csv('censor_oct2.csv')"
   ]
  },
  {
   "cell_type": "code",
   "execution_count": 31,
   "metadata": {
    "collapsed": false
   },
   "outputs": [],
   "source": [
    "dataf_censor = dataf_censor.drop('Unnamed: 0', 1);"
   ]
  },
  {
   "cell_type": "code",
   "execution_count": 32,
   "metadata": {
    "collapsed": false
   },
   "outputs": [
    {
     "data": {
      "text/html": [
       "<div>\n",
       "<table border=\"1\" class=\"dataframe\">\n",
       "  <thead>\n",
       "    <tr style=\"text-align: right;\">\n",
       "      <th></th>\n",
       "      <th>name</th>\n",
       "      <th>country</th>\n",
       "      <th>career_starting_at</th>\n",
       "      <th>career_ending_at</th>\n",
       "      <th>career_length</th>\n",
       "      <th>censor</th>\n",
       "    </tr>\n",
       "  </thead>\n",
       "  <tbody>\n",
       "    <tr>\n",
       "      <th>0</th>\n",
       "      <td>SR Tendulkar</td>\n",
       "      <td>India</td>\n",
       "      <td>1989</td>\n",
       "      <td>2012</td>\n",
       "      <td>24</td>\n",
       "      <td>0</td>\n",
       "    </tr>\n",
       "    <tr>\n",
       "      <th>1</th>\n",
       "      <td>KC Sangakkara</td>\n",
       "      <td>SL</td>\n",
       "      <td>2000</td>\n",
       "      <td>2015</td>\n",
       "      <td>16</td>\n",
       "      <td>0</td>\n",
       "    </tr>\n",
       "    <tr>\n",
       "      <th>2</th>\n",
       "      <td>RT Ponting</td>\n",
       "      <td>Aus</td>\n",
       "      <td>1995</td>\n",
       "      <td>2012</td>\n",
       "      <td>18</td>\n",
       "      <td>0</td>\n",
       "    </tr>\n",
       "    <tr>\n",
       "      <th>3</th>\n",
       "      <td>ST Jayasuriya</td>\n",
       "      <td>SL</td>\n",
       "      <td>1989</td>\n",
       "      <td>2011</td>\n",
       "      <td>23</td>\n",
       "      <td>1</td>\n",
       "    </tr>\n",
       "    <tr>\n",
       "      <th>4</th>\n",
       "      <td>DPMD Jayawardene</td>\n",
       "      <td>SL</td>\n",
       "      <td>1998</td>\n",
       "      <td>2015</td>\n",
       "      <td>18</td>\n",
       "      <td>0</td>\n",
       "    </tr>\n",
       "  </tbody>\n",
       "</table>\n",
       "</div>"
      ],
      "text/plain": [
       "               name country  career_starting_at  career_ending_at  \\\n",
       "0      SR Tendulkar   India                1989              2012   \n",
       "1     KC Sangakkara      SL                2000              2015   \n",
       "2        RT Ponting     Aus                1995              2012   \n",
       "3     ST Jayasuriya      SL                1989              2011   \n",
       "4  DPMD Jayawardene      SL                1998              2015   \n",
       "\n",
       "   career_length  censor  \n",
       "0             24       0  \n",
       "1             16       0  \n",
       "2             18       0  \n",
       "3             23       1  \n",
       "4             18       0  "
      ]
     },
     "execution_count": 32,
     "metadata": {},
     "output_type": "execute_result"
    }
   ],
   "source": [
    "dataf_censor.head()"
   ]
  },
  {
   "cell_type": "markdown",
   "metadata": {},
   "source": [
    "The following data shows few rows of the data with its censored values."
   ]
  },
  {
   "cell_type": "code",
   "execution_count": 33,
   "metadata": {
    "collapsed": false
   },
   "outputs": [
    {
     "data": {
      "text/html": [
       "<div>\n",
       "<table border=\"1\" class=\"dataframe\">\n",
       "  <thead>\n",
       "    <tr style=\"text-align: right;\">\n",
       "      <th></th>\n",
       "      <th>name</th>\n",
       "      <th>country</th>\n",
       "      <th>career_starting_at</th>\n",
       "      <th>career_ending_at</th>\n",
       "      <th>career_length</th>\n",
       "      <th>censor</th>\n",
       "    </tr>\n",
       "  </thead>\n",
       "  <tbody>\n",
       "    <tr>\n",
       "      <th>1760</th>\n",
       "      <td>EP Thompson</td>\n",
       "      <td>NZ</td>\n",
       "      <td>2009</td>\n",
       "      <td>2009</td>\n",
       "      <td>1</td>\n",
       "      <td>1</td>\n",
       "    </tr>\n",
       "    <tr>\n",
       "      <th>1761</th>\n",
       "      <td>AL Thomson</td>\n",
       "      <td>Aus</td>\n",
       "      <td>1971</td>\n",
       "      <td>1971</td>\n",
       "      <td>1</td>\n",
       "      <td>1</td>\n",
       "    </tr>\n",
       "    <tr>\n",
       "      <th>1762</th>\n",
       "      <td>RW Tolchard</td>\n",
       "      <td>Eng</td>\n",
       "      <td>1979</td>\n",
       "      <td>1979</td>\n",
       "      <td>1</td>\n",
       "      <td>1</td>\n",
       "    </tr>\n",
       "    <tr>\n",
       "      <th>1763</th>\n",
       "      <td>CM Tuckett</td>\n",
       "      <td>WI</td>\n",
       "      <td>1998</td>\n",
       "      <td>1998</td>\n",
       "      <td>1</td>\n",
       "      <td>1</td>\n",
       "    </tr>\n",
       "    <tr>\n",
       "      <th>1764</th>\n",
       "      <td>I Udana</td>\n",
       "      <td>SL</td>\n",
       "      <td>2012</td>\n",
       "      <td>2012</td>\n",
       "      <td>1</td>\n",
       "      <td>0</td>\n",
       "    </tr>\n",
       "    <tr>\n",
       "      <th>1765</th>\n",
       "      <td>JD Unadkat</td>\n",
       "      <td>India</td>\n",
       "      <td>2013</td>\n",
       "      <td>2013</td>\n",
       "      <td>1</td>\n",
       "      <td>0</td>\n",
       "    </tr>\n",
       "    <tr>\n",
       "      <th>1766</th>\n",
       "      <td>JM Vince</td>\n",
       "      <td>Eng</td>\n",
       "      <td>2015</td>\n",
       "      <td>2015</td>\n",
       "      <td>1</td>\n",
       "      <td>0</td>\n",
       "    </tr>\n",
       "    <tr>\n",
       "      <th>1767</th>\n",
       "      <td>Wahidul Gani</td>\n",
       "      <td>Ban</td>\n",
       "      <td>1988</td>\n",
       "      <td>1988</td>\n",
       "      <td>1</td>\n",
       "      <td>1</td>\n",
       "    </tr>\n",
       "    <tr>\n",
       "      <th>1768</th>\n",
       "      <td>KP Walmsley</td>\n",
       "      <td>NZ</td>\n",
       "      <td>2003</td>\n",
       "      <td>2003</td>\n",
       "      <td>1</td>\n",
       "      <td>1</td>\n",
       "    </tr>\n",
       "    <tr>\n",
       "      <th>1769</th>\n",
       "      <td>M Watkinson</td>\n",
       "      <td>Eng</td>\n",
       "      <td>1996</td>\n",
       "      <td>1996</td>\n",
       "      <td>1</td>\n",
       "      <td>1</td>\n",
       "    </tr>\n",
       "    <tr>\n",
       "      <th>1770</th>\n",
       "      <td>S Weerakoon</td>\n",
       "      <td>SL</td>\n",
       "      <td>2012</td>\n",
       "      <td>2012</td>\n",
       "      <td>1</td>\n",
       "      <td>0</td>\n",
       "    </tr>\n",
       "    <tr>\n",
       "      <th>1771</th>\n",
       "      <td>Zakir Hasan</td>\n",
       "      <td>Ban</td>\n",
       "      <td>1997</td>\n",
       "      <td>1997</td>\n",
       "      <td>1</td>\n",
       "      <td>1</td>\n",
       "    </tr>\n",
       "  </tbody>\n",
       "</table>\n",
       "</div>"
      ],
      "text/plain": [
       "              name country  career_starting_at  career_ending_at  \\\n",
       "1760   EP Thompson      NZ                2009              2009   \n",
       "1761    AL Thomson     Aus                1971              1971   \n",
       "1762   RW Tolchard     Eng                1979              1979   \n",
       "1763    CM Tuckett      WI                1998              1998   \n",
       "1764       I Udana      SL                2012              2012   \n",
       "1765    JD Unadkat   India                2013              2013   \n",
       "1766      JM Vince     Eng                2015              2015   \n",
       "1767  Wahidul Gani     Ban                1988              1988   \n",
       "1768   KP Walmsley      NZ                2003              2003   \n",
       "1769   M Watkinson     Eng                1996              1996   \n",
       "1770   S Weerakoon      SL                2012              2012   \n",
       "1771   Zakir Hasan     Ban                1997              1997   \n",
       "\n",
       "      career_length  censor  \n",
       "1760              1       1  \n",
       "1761              1       1  \n",
       "1762              1       1  \n",
       "1763              1       1  \n",
       "1764              1       0  \n",
       "1765              1       0  \n",
       "1766              1       0  \n",
       "1767              1       1  \n",
       "1768              1       1  \n",
       "1769              1       1  \n",
       "1770              1       0  \n",
       "1771              1       1  "
      ]
     },
     "execution_count": 33,
     "metadata": {},
     "output_type": "execute_result"
    }
   ],
   "source": [
    "dataf_censor.tail(12)"
   ]
  },
  {
   "cell_type": "code",
   "execution_count": 34,
   "metadata": {
    "collapsed": false
   },
   "outputs": [
    {
     "data": {
      "text/plain": [
       "0     419\n",
       "1    1353\n",
       "Name: censor, dtype: int64"
      ]
     },
     "execution_count": 34,
     "metadata": {},
     "output_type": "execute_result"
    }
   ],
   "source": [
    "dataf_censor.censor.value_counts().sort_index()"
   ]
  },
  {
   "cell_type": "markdown",
   "metadata": {},
   "source": [
    "Therefore, there are 419 players whose careers are still active and 1353 players who have retired."
   ]
  },
  {
   "cell_type": "code",
   "execution_count": 35,
   "metadata": {
    "collapsed": false
   },
   "outputs": [
    {
     "data": {
      "text/html": [
       "<div>\n",
       "<table border=\"1\" class=\"dataframe\">\n",
       "  <thead>\n",
       "    <tr style=\"text-align: right;\">\n",
       "      <th></th>\n",
       "      <th>name</th>\n",
       "      <th>country</th>\n",
       "      <th>career_starting_at</th>\n",
       "      <th>career_ending_at</th>\n",
       "      <th>career_length</th>\n",
       "      <th>censor</th>\n",
       "    </tr>\n",
       "  </thead>\n",
       "  <tbody>\n",
       "    <tr>\n",
       "      <th>0</th>\n",
       "      <td>SR Tendulkar</td>\n",
       "      <td>India</td>\n",
       "      <td>1989</td>\n",
       "      <td>2012</td>\n",
       "      <td>24</td>\n",
       "      <td>0</td>\n",
       "    </tr>\n",
       "    <tr>\n",
       "      <th>1</th>\n",
       "      <td>KC Sangakkara</td>\n",
       "      <td>SL</td>\n",
       "      <td>2000</td>\n",
       "      <td>2015</td>\n",
       "      <td>16</td>\n",
       "      <td>0</td>\n",
       "    </tr>\n",
       "    <tr>\n",
       "      <th>2</th>\n",
       "      <td>RT Ponting</td>\n",
       "      <td>Aus</td>\n",
       "      <td>1995</td>\n",
       "      <td>2012</td>\n",
       "      <td>18</td>\n",
       "      <td>0</td>\n",
       "    </tr>\n",
       "    <tr>\n",
       "      <th>3</th>\n",
       "      <td>ST Jayasuriya</td>\n",
       "      <td>SL</td>\n",
       "      <td>1989</td>\n",
       "      <td>2011</td>\n",
       "      <td>23</td>\n",
       "      <td>1</td>\n",
       "    </tr>\n",
       "    <tr>\n",
       "      <th>4</th>\n",
       "      <td>DPMD Jayawardene</td>\n",
       "      <td>SL</td>\n",
       "      <td>1998</td>\n",
       "      <td>2015</td>\n",
       "      <td>18</td>\n",
       "      <td>0</td>\n",
       "    </tr>\n",
       "  </tbody>\n",
       "</table>\n",
       "</div>"
      ],
      "text/plain": [
       "               name country  career_starting_at  career_ending_at  \\\n",
       "0      SR Tendulkar   India                1989              2012   \n",
       "1     KC Sangakkara      SL                2000              2015   \n",
       "2        RT Ponting     Aus                1995              2012   \n",
       "3     ST Jayasuriya      SL                1989              2011   \n",
       "4  DPMD Jayawardene      SL                1998              2015   \n",
       "\n",
       "   career_length  censor  \n",
       "0             24       0  \n",
       "1             16       0  \n",
       "2             18       0  \n",
       "3             23       1  \n",
       "4             18       0  "
      ]
     },
     "execution_count": 35,
     "metadata": {},
     "output_type": "execute_result"
    }
   ],
   "source": [
    "dataf_censor.head()"
   ]
  },
  {
   "cell_type": "markdown",
   "metadata": {},
   "source": [
    "<a id='plot_survival_curve'></a>"
   ]
  },
  {
   "cell_type": "markdown",
   "metadata": {},
   "source": [
    "## Plotting the survival curve"
   ]
  },
  {
   "cell_type": "code",
   "execution_count": 36,
   "metadata": {
    "collapsed": true
   },
   "outputs": [],
   "source": [
    "from lifelines import KaplanMeierFitter\n",
    "kapmf = KaplanMeierFitter()"
   ]
  },
  {
   "cell_type": "code",
   "execution_count": 37,
   "metadata": {
    "collapsed": false
   },
   "outputs": [
    {
     "data": {
      "text/plain": [
       "<lifelines.KaplanMeierFitter: fitted with 1772 observations, 419 censored>"
      ]
     },
     "execution_count": 37,
     "metadata": {},
     "output_type": "execute_result"
    }
   ],
   "source": [
    "kapmf.fit(dataf_censor.career_length, event_observed=dataf_censor.censor)"
   ]
  },
  {
   "cell_type": "code",
   "execution_count": 38,
   "metadata": {
    "collapsed": false
   },
   "outputs": [],
   "source": [
    "import plotly\n",
    "import plotly.tools as tls\n",
    "import plotly.plotly as py\n",
    "from plotly.graph_objs import Figure, Data, Layout\n",
    "import matplotlib.pyplot as plt\n",
    "from plotly.graph_objs import *\n",
    "%matplotlib inline\n",
    "from pylab import rcParams"
   ]
  },
  {
   "cell_type": "code",
   "execution_count": 39,
   "metadata": {
    "collapsed": true
   },
   "outputs": [],
   "source": [
    "def pyplot(fig, ci=True, legend=True):\n",
    "    # Convert mpl fig obj to plotly fig obj, resize to plotly's default\n",
    "    py_fig = tls.mpl_to_plotly(fig, resize=True)\n",
    "    \n",
    "    # Add fill property to lower limit line\n",
    "    if ci == True:\n",
    "        style1 = dict(fill='tonexty')\n",
    "        # apply style\n",
    "        py_fig['data'][2].update(style1)\n",
    "        \n",
    "        # Change color scheme to black\n",
    "        py_fig['data'].update(dict(line=Line(color='black')))\n",
    "    \n",
    "    # change the default line type to 'step'\n",
    "    py_fig['data'].update(dict(line=Line(shape='hv')))\n",
    "    # Delete misplaced legend annotations \n",
    "    py_fig['layout'].pop('annotations', None)\n",
    "    \n",
    "    if legend == True:\n",
    "        # Add legend, place it at the top right corner of the plot\n",
    "        py_fig['layout'].update(\n",
    "            showlegend=True,\n",
    "            legend=Legend(\n",
    "                x=1.05,\n",
    "                y=1\n",
    "            )\n",
    "        )\n",
    "        \n",
    "    # Send updated figure object to Plotly, show result in notebook\n",
    "    return py.iplot(py_fig)"
   ]
  },
  {
   "cell_type": "code",
   "execution_count": 40,
   "metadata": {
    "collapsed": false
   },
   "outputs": [
    {
     "name": "stderr",
     "output_type": "stream",
     "text": [
      "C:\\Anaconda2\\lib\\site-packages\\plotly\\matplotlylib\\renderer.py:384: UserWarning:\n",
      "\n",
      "Bummer! Plotly can currently only draw Line2D objects from matplotlib that are in 'data' coordinates!\n",
      "\n",
      "C:\\Anaconda2\\lib\\site-packages\\plotly\\matplotlylib\\renderer.py:481: UserWarning:\n",
      "\n",
      "I found a path object that I don't think is part of a bar chart. Ignoring.\n",
      "\n"
     ]
    },
    {
     "data": {
      "text/html": [
       "<iframe id=\"igraph\" scrolling=\"no\" style=\"border:none;\" seamless=\"seamless\" src=\"https://plot.ly/~chinmayd/34.embed\" height=\"525px\" width=\"100%\"></iframe>"
      ],
      "text/plain": [
       "<plotly.tools.PlotlyDisplay object>"
      ]
     },
     "execution_count": 40,
     "metadata": {},
     "output_type": "execute_result"
    }
   ],
   "source": [
    "p = kapmf.plot(ci_force_lines=True, title='Career span of cricket players')\n",
    "kapmf1 = plt.gcf()\n",
    "pyplot(kapmf1)"
   ]
  },
  {
   "cell_type": "markdown",
   "metadata": {},
   "source": [
    "<a id='survival_curve_observations'></a>"
   ]
  },
  {
   "cell_type": "markdown",
   "metadata": {},
   "source": [
    "### Observations"
   ]
  },
  {
   "cell_type": "code",
   "execution_count": 41,
   "metadata": {
    "collapsed": false
   },
   "outputs": [
    {
     "data": {
      "text/plain": [
       "6.0"
      ]
     },
     "execution_count": 41,
     "metadata": {},
     "output_type": "execute_result"
    }
   ],
   "source": [
    "kapmf.median_"
   ]
  },
  {
   "cell_type": "markdown",
   "metadata": {},
   "source": [
    "* It is observed that the probablity of the population having career of atleast 6 years is 50%. "
   ]
  },
  {
   "cell_type": "code",
   "execution_count": 42,
   "metadata": {
    "collapsed": false
   },
   "outputs": [
    {
     "data": {
      "text/plain": [
       "0.01353478428238764"
      ]
     },
     "execution_count": 42,
     "metadata": {},
     "output_type": "execute_result"
    }
   ],
   "source": [
    "kapmf.survival_function_.KM_estimate[20]"
   ]
  },
  {
   "cell_type": "markdown",
   "metadata": {},
   "source": [
    "* On the other hand, there is 1.3 % chances that a player's career will extend beyond 20 years."
   ]
  },
  {
   "cell_type": "code",
   "execution_count": 43,
   "metadata": {
    "collapsed": false
   },
   "outputs": [
    {
     "data": {
      "text/plain": [
       "0.26502884824883655"
      ]
     },
     "execution_count": 43,
     "metadata": {},
     "output_type": "execute_result"
    }
   ],
   "source": [
    "kapmf.survival_function_.KM_estimate[10]"
   ]
  },
  {
   "cell_type": "markdown",
   "metadata": {},
   "source": [
    "* There is 26.5% chance that a player's career extends beyonds 10 years"
   ]
  },
  {
   "cell_type": "markdown",
   "metadata": {},
   "source": [
    "<a id='plot_country-cohorts'></a>"
   ]
  },
  {
   "cell_type": "markdown",
   "metadata": {},
   "source": [
    "## Plotting using Cohorts - Further Analysis"
   ]
  },
  {
   "cell_type": "markdown",
   "metadata": {},
   "source": [
    "<a id='comp_ind_aus'></a>"
   ]
  },
  {
   "cell_type": "markdown",
   "metadata": {},
   "source": [
    "### Case 1:  Comparing India and Australia"
   ]
  },
  {
   "cell_type": "code",
   "execution_count": 44,
   "metadata": {
    "collapsed": false
   },
   "outputs": [],
   "source": [
    "cnt_typetype = dataf_censor['country'].unique()"
   ]
  },
  {
   "cell_type": "code",
   "execution_count": 45,
   "metadata": {
    "collapsed": true
   },
   "outputs": [],
   "source": [
    "ind = dataf_censor.query('country == \"India\"')"
   ]
  },
  {
   "cell_type": "code",
   "execution_count": 46,
   "metadata": {
    "collapsed": true
   },
   "outputs": [],
   "source": [
    "aus = dataf_censor.query('country == \"Aus\"')"
   ]
  },
  {
   "cell_type": "code",
   "execution_count": 47,
   "metadata": {
    "collapsed": false
   },
   "outputs": [
    {
     "name": "stderr",
     "output_type": "stream",
     "text": [
      "C:\\Anaconda2\\lib\\site-packages\\plotly\\matplotlylib\\renderer.py:516: UserWarning:\n",
      "\n",
      "Looks like the annotation(s) you are trying \n",
      "to draw lies/lay outside the given figure size.\n",
      "\n",
      "Therefore, the resulting Plotly figure may not be \n",
      "large enough to view the full text. To adjust \n",
      "the size of the figure, use the 'width' and \n",
      "'height' keys in the Layout object. Alternatively,\n",
      "use the Margin object to adjust the figure's margins.\n",
      "\n"
     ]
    },
    {
     "data": {
      "text/html": [
       "<iframe id=\"igraph\" scrolling=\"no\" style=\"border:none;\" seamless=\"seamless\" src=\"https://plot.ly/~chinmayd/36.embed\" height=\"525px\" width=\"100%\"></iframe>"
      ],
      "text/plain": [
       "<plotly.tools.PlotlyDisplay object>"
      ]
     },
     "execution_count": 47,
     "metadata": {},
     "output_type": "execute_result"
    }
   ],
   "source": [
    "from lifelines import KaplanMeierFitter\n",
    "kapmf = KaplanMeierFitter()\n",
    "ax = plt.subplot(111)\n",
    "kapmf.fit(ind.career_length, event_observed=ind.censor, label=\"India\")\n",
    "kapmf.survival_function_.plot(ax=ax)\n",
    "kapmf.fit(aus.career_length, event_observed=aus.censor, label=\"Aus\")\n",
    "kapmf.survival_function_.plot(ax=ax)\n",
    "plt.title(\"Survival curve of ODI Careers among India and Australia players \")\n",
    "kapmf2 = plt.gcf()\n",
    "pyplot(kapmf2, ci=False)"
   ]
  },
  {
   "cell_type": "markdown",
   "metadata": {},
   "source": [
    "<a id='ind_aus_obs_inf'></a>"
   ]
  },
  {
   "cell_type": "markdown",
   "metadata": {},
   "source": [
    "#### Observations:\n",
    "* There are primarily two trends observed in the plots - \n",
    "    1. The survival curve for Australia is more than that of India between the period, 3 to 10 years.\n",
    "    2. The survival curve for India dominates that of Australia from 10 years.\n",
    "* The tail for Australia ends at around 17 years while for India, it extends much longer (till 24 years)."
   ]
  },
  {
   "cell_type": "markdown",
   "metadata": {},
   "source": [
    "<a id='comp_pak_eng'></a>"
   ]
  },
  {
   "cell_type": "markdown",
   "metadata": {},
   "source": [
    "### Case 2: Comparing Pakistan and England"
   ]
  },
  {
   "cell_type": "code",
   "execution_count": 48,
   "metadata": {
    "collapsed": false
   },
   "outputs": [],
   "source": [
    "pak = dataf_censor.query('country == \"Pak\"')"
   ]
  },
  {
   "cell_type": "code",
   "execution_count": 49,
   "metadata": {
    "collapsed": true
   },
   "outputs": [],
   "source": [
    "eng = dataf_censor.query('country == \"Eng\"')"
   ]
  },
  {
   "cell_type": "code",
   "execution_count": 50,
   "metadata": {
    "collapsed": false
   },
   "outputs": [
    {
     "data": {
      "text/html": [
       "<iframe id=\"igraph\" scrolling=\"no\" style=\"border:none;\" seamless=\"seamless\" src=\"https://plot.ly/~chinmayd/38.embed\" height=\"525px\" width=\"100%\"></iframe>"
      ],
      "text/plain": [
       "<plotly.tools.PlotlyDisplay object>"
      ]
     },
     "execution_count": 50,
     "metadata": {},
     "output_type": "execute_result"
    }
   ],
   "source": [
    "from lifelines import KaplanMeierFitter\n",
    "kapmf = KaplanMeierFitter()\n",
    "ax = plt.subplot(111)\n",
    "kapmf.fit(pak.career_length, event_observed=pak.censor, label=\"Pak\")\n",
    "kapmf.survival_function_.plot(ax=ax)\n",
    "kapmf.fit(eng.career_length, event_observed=eng.censor, label=\"Eng\")\n",
    "kapmf.survival_function_.plot(ax=ax)\n",
    "plt.title(\"Survival curve of ODI Careers among England and Pakistan players \")\n",
    "kapmf2 = plt.gcf()\n",
    "pyplot(kapmf2, ci=False)"
   ]
  },
  {
   "cell_type": "markdown",
   "metadata": {},
   "source": [
    "<a id='pak_eng_obs_inf'></a>"
   ]
  },
  {
   "cell_type": "markdown",
   "metadata": {},
   "source": [
    "#### Observations:\n",
    "* The survival curve for both the countries seem to be almost the same till 5 years. \n",
    "* After that point, we notice that the curve seem to significantly higher for Pakistan than England.\n",
    "* The survival curve continues past the duration of 20 years for India (around 22) but it tapers off for England\n",
    "    at 20 itself."
   ]
  },
  {
   "cell_type": "markdown",
   "metadata": {},
   "source": [
    "#### Inferences:\n",
    "* The chance of players from the sample, have a career more than 5 years is 50% for both the countries. \n",
    "* But the chance of a player from Pakistan having a career more than 10 years is around 30% whereas there's only 20% chance of a player from England having a career more than 10 years. \n",
    "* The difference becomes more conspicious when we note the chances of a player having a career more than 12-13 years.\n",
    "* We notice that the probability(or chance) is approximately double in the case of Pakistan when compared to that England. \n",
    "\n",
    "** In other words, a player representing Pakistan is twice more likely of having a career more than 12-13 years than a player from England!**"
   ]
  },
  {
   "cell_type": "markdown",
   "metadata": {},
   "source": [
    "### Plotting all the countries"
   ]
  },
  {
   "cell_type": "code",
   "execution_count": 51,
   "metadata": {
    "collapsed": false
   },
   "outputs": [
    {
     "data": {
      "image/png": "[encoded data removed]",
      "text/plain": [
       "<matplotlib.figure.Figure at 0xba699b0>"
      ]
     },
     "metadata": {},
     "output_type": "display_data"
    }
   ],
   "source": [
    "for i,cnt_type in enumerate(cnt_typetype[:4]):\n",
    "    ax = plt.subplot(2,2,i+1)\n",
    "    kapmf1 = KaplanMeierFitter()\n",
    "    ind = dataf_censor[dataf_censor.country == cnt_type]\n",
    "    kapmf1.fit(ind.career_length, event_observed=ind.censor, label=cnt_type)\n",
    "    kapmf1.survival_function_.plot(ax=ax)\n",
    "    plt.xlim(0,25)\n",
    "    if i % 2 ==0:\n",
    "        plt.ylabel('Probability')\n",
    "    plt.xlabel(\"Years\")\n",
    "plt.tight_layout()"
   ]
  },
  {
   "cell_type": "code",
   "execution_count": 52,
   "metadata": {
    "collapsed": false
   },
   "outputs": [
    {
     "data": {
      "image/png": "[encoded data removed]",
      "text/plain": [
       "<matplotlib.figure.Figure at 0xa8c75f8>"
      ]
     },
     "metadata": {},
     "output_type": "display_data"
    }
   ],
   "source": [
    "for i,cnt_type in enumerate(cnt_typetype[4:8]):\n",
    "    ax = plt.subplot(2,2,i+1)\n",
    "    kapmf1 = KaplanMeierFitter()\n",
    "    ind = dataf_censor[dataf_censor.country == cnt_type]\n",
    "    kapmf1.fit(ind.career_length, event_observed=ind.censor, label=cnt_type)\n",
    "    kapmf1.survival_function_.plot(ax=ax)\n",
    "    plt.xlim(0,25)\n",
    "    if i % 2 ==0:\n",
    "        plt.ylabel('Probability')\n",
    "    plt.xlabel(\"Years\")\n",
    "plt.tight_layout()"
   ]
  },
  {
   "cell_type": "code",
   "execution_count": 53,
   "metadata": {
    "collapsed": false
   },
   "outputs": [
    {
     "data": {
      "image/png": "[encoded data removed]",
      "text/plain": [
       "<matplotlib.figure.Figure at 0xbbb5ba8>"
      ]
     },
     "metadata": {},
     "output_type": "display_data"
    }
   ],
   "source": [
    "for i,cnt_type in enumerate(cnt_typetype[8:]):\n",
    "    ax = plt.subplot(2,2,i+1)\n",
    "    kapmf1 = KaplanMeierFitter()\n",
    "    ind = dataf_censor[dataf_censor.country == cnt_type]\n",
    "    kapmf1.fit(ind.career_length, event_observed=ind.censor, label=cnt_type)\n",
    "    kapmf1.survival_function_.plot(ax=ax)\n",
    "    plt.xlim(0,25)\n",
    "    if i % 2 ==0:\n",
    "        plt.ylabel('Probability')\n",
    "    plt.xlabel(\"Years\")\n",
    "plt.tight_layout()"
   ]
  },
  {
   "cell_type": "code",
   "execution_count": 54,
   "metadata": {
    "collapsed": false
   },
   "outputs": [
    {
     "data": {
      "text/html": [
       "<iframe id=\"igraph\" scrolling=\"no\" style=\"border:none;\" seamless=\"seamless\" src=\"https://plot.ly/~chinmayd/40.embed\" height=\"525px\" width=\"100%\"></iframe>"
      ],
      "text/plain": [
       "<plotly.tools.PlotlyDisplay object>"
      ]
     },
     "execution_count": 54,
     "metadata": {},
     "output_type": "execute_result"
    }
   ],
   "source": [
    "ax = plt.subplot(111)\n",
    "kapmf = KaplanMeierFitter()\n",
    "for country in cnt_typetype:\n",
    "    df_country = dataf_censor[dataf_censor.country == country]\n",
    "    kapmf.fit(df_country.career_length, df_country.censor, label=country)\n",
    "    ax = kapmf.survival_function_.plot(ax=ax)\n",
    "plt.title(\"Survival curve of ODI Careers across all countries \")\n",
    "kapmf2 = plt.gcf()\n",
    "pyplot(kapmf2, ci=False)    "
   ]
  },
  {
   "cell_type": "markdown",
   "metadata": {},
   "source": [
    "<a id='plot_era-cohorts'></a>"
   ]
  },
  {
   "cell_type": "markdown",
   "metadata": {},
   "source": [
    "## Plotting using eras"
   ]
  },
  {
   "cell_type": "markdown",
   "metadata": {},
   "source": [
    "* The players are divided into 3 main 'eras', based on when they made their debut:\n",
    "    1. 2007 - present\n",
    "    2. 1989 - 2006\n",
    "    3. Start of ODI cricket - 1988"
   ]
  },
  {
   "cell_type": "code",
   "execution_count": 55,
   "metadata": {
    "collapsed": true
   },
   "outputs": [],
   "source": [
    "type_era = []\n",
    "for index, row in dataf_censor.iterrows():\n",
    "    if row.career_starting_at < 1989:\n",
    "        type_era.append('0')\n",
    "    if row.career_starting_at >= 1989 and row.career_starting_at < 2007:\n",
    "        type_era.append('1')\n",
    "    if row.career_starting_at >= 2007:\n",
    "        type_era.append('2')\n",
    "dataf_censor['type_era'] = pd.Series(type_era)"
   ]
  },
  {
   "cell_type": "markdown",
   "metadata": {},
   "source": [
    "* Plotting the players, based on their eras."
   ]
  },
  {
   "cell_type": "code",
   "execution_count": 56,
   "metadata": {
    "collapsed": false
   },
   "outputs": [
    {
     "data": {
      "text/html": [
       "<iframe id=\"igraph\" scrolling=\"no\" style=\"border:none;\" seamless=\"seamless\" src=\"https://plot.ly/~chinmayd/42.embed\" height=\"525px\" width=\"100%\"></iframe>"
      ],
      "text/plain": [
       "<plotly.tools.PlotlyDisplay object>"
      ]
     },
     "execution_count": 56,
     "metadata": {},
     "output_type": "execute_result"
    }
   ],
   "source": [
    "from lifelines import KaplanMeierFitter\n",
    "era_0 = dataf_censor.query(\"type_era == '0'\")\n",
    "era_1 = dataf_censor.query(\"type_era == '1'\")\n",
    "kapmf = KaplanMeierFitter()\n",
    "ax = plt.subplot(111)\n",
    "kapmf.fit(era_0.career_length, event_observed=era_0.censor, label=\"before 89\")\n",
    "kapmf.survival_function_.plot(ax=ax)\n",
    "kapmf.fit(era_1.career_length, event_observed=era_1.censor, label=\"89-07\")\n",
    "kapmf.survival_function_.plot(ax=ax)\n",
    "plt.title(\"Survival curve of ODI Careers among players who made their debut before 89 and 89 -'07 \")\n",
    "#plt.title(\"Survival curve of ODI Careers among England and Pakistan players \")\n",
    "kapmf2 = plt.gcf()\n",
    "pyplot(kapmf2, ci=False)"
   ]
  },
  {
   "cell_type": "markdown",
   "metadata": {},
   "source": [
    "<a id='era_obs_inf'></a>"
   ]
  },
  {
   "cell_type": "markdown",
   "metadata": {},
   "source": [
    "#### Observations:\n",
    "* The basic trend observed in the plot - \n",
    "    The survival curve for the players who made their debut in the period 89-2007 clearly dominates the players who made their debut before 1989 from the period, 5 years to the end - the domination is evident especially from 9 years."
   ]
  },
  {
   "cell_type": "markdown",
   "metadata": {},
   "source": [
    "#### Inferences:\n",
    "* There is a greater chance for players who made their debut in the period 89-2007 to have a career length of 9 years and more than players who made their debuts before 1989."
   ]
  },
  {
   "cell_type": "markdown",
   "metadata": {},
   "source": [
    "<a id='era_inf_sport'></a>"
   ]
  },
  {
   "cell_type": "markdown",
   "metadata": {},
   "source": [
    "### Can this be explained by the sport itself?"
   ]
  },
  {
   "cell_type": "markdown",
   "metadata": {},
   "source": [
    "* The sport has changed drastically from the 1980s to present. \n",
    "* Health facilities and fitness training has improved drastically with technology. \n",
    "* This probably can lengthen a player's career - especially when he has played for around 10 years or so. The improved facilities/standards can help him get back to competitive cricket quicker than it has been earlier. This probably explains the dominance of the curve from 9 years."
   ]
  },
  {
   "cell_type": "markdown",
   "metadata": {},
   "source": [
    "<a id='plot_player-cohorts'></a>"
   ]
  },
  {
   "cell_type": "markdown",
   "metadata": {
    "collapsed": true
   },
   "source": [
    "## Survival Regression"
   ]
  },
  {
   "cell_type": "markdown",
   "metadata": {
    "collapsed": true
   },
   "source": [
    "* The concept of survival analysis can be used to predict the survival curves of individual subjects too. This is achieved by using regression models."
   ]
  },
  {
   "cell_type": "markdown",
   "metadata": {},
   "source": [
    "* These regression models regress the covariates( additional information obtained related to the subject) against the duration and censor information of the subject. "
   ]
  },
  {
   "cell_type": "markdown",
   "metadata": {},
   "source": [
    "* The regression models - Aalen's Additive Model and Cox's Proportional Hazards Model, estimate the hazard rate.  "
   ]
  },
  {
   "cell_type": "markdown",
   "metadata": {},
   "source": [
    "* Survival Regression can be used to predict the individual survival and hazard rates. "
   ]
  },
  {
   "cell_type": "markdown",
   "metadata": {},
   "source": [
    "* These regression techniques can thus be applied on  individual players, whose career is not oer yet, to predict the possible lifetime of his career."
   ]
  },
  {
   "cell_type": "markdown",
   "metadata": {},
   "source": [
    "* The covariates used are:\n",
    "    1. Country\n",
    "    2. Era the player belongs to\n",
    "    3. Role of player"
   ]
  },
  {
   "cell_type": "markdown",
   "metadata": {},
   "source": [
    "* Using these covariates, the individual survival rates can be estimated by regressing these covariates against the known duration and censoring information."
   ]
  },
  {
   "cell_type": "markdown",
   "metadata": {},
   "source": [
    "* The Aalen Additive model is used on this dataset."
   ]
  },
  {
   "cell_type": "code",
   "execution_count": 57,
   "metadata": {
    "collapsed": true
   },
   "outputs": [],
   "source": [
    "from lifelines import AalenAdditiveFitter"
   ]
  },
  {
   "cell_type": "code",
   "execution_count": 58,
   "metadata": {
    "collapsed": false
   },
   "outputs": [],
   "source": [
    "import pandas as pd\n",
    "df_regression = pd.read_csv('censor_oct2.csv')\n",
    "df_regression = df_regression.drop('Unnamed: 0', 1);\n",
    "type_era = []\n",
    "for index, row in df_regression.iterrows():\n",
    "    if row.career_starting_at < 1989:\n",
    "        type_era.append('0')\n",
    "    if row.career_starting_at >= 1989 and row.career_starting_at < 2007:\n",
    "        type_era.append('1')\n",
    "    if row.career_starting_at >= 2007:\n",
    "        type_era.append('2')\n",
    "df_regression['type_era'] = pd.Series(type_era)\n"
   ]
  },
  {
   "cell_type": "code",
   "execution_count": 59,
   "metadata": {
    "collapsed": false
   },
   "outputs": [
    {
     "name": "stdout",
     "output_type": "stream",
     "text": [
      " [-----------------100%-----------------] 1353 of 1353 complete in 0.9 sec\n"
     ]
    },
    {
     "data": {
      "text/plain": [
       "<lifelines.AalenAdditiveFitter: fitted with 1772 observations, 419 censored>"
      ]
     },
     "execution_count": 59,
     "metadata": {},
     "output_type": "execute_result"
    }
   ],
   "source": [
    "import patsy\n",
    "X = patsy.dmatrix('country + type_era -1', df_regression, return_type='dataframe')\n",
    "aaf = AalenAdditiveFitter(coef_penalizer=1.0, fit_intercept=True)\n",
    "X['T'] = df_regression.career_length\n",
    "X['E'] = df_regression.censor\n",
    "aaf.fit(X, 'T', event_col='E')"
   ]
  },
  {
   "cell_type": "markdown",
   "metadata": {},
   "source": [
    "<a id='predict_kohli'></a>"
   ]
  },
  {
   "cell_type": "markdown",
   "metadata": {},
   "source": [
    "### Predict the survival rate of Virat Kohli"
   ]
  },
  {
   "cell_type": "code",
   "execution_count": 60,
   "metadata": {
    "collapsed": false
   },
   "outputs": [
    {
     "data": {
      "text/plain": [
       "<matplotlib.axes._subplots.AxesSubplot at 0xc432748>"
      ]
     },
     "execution_count": 60,
     "metadata": {},
     "output_type": "execute_result"
    },
    {
     "data": {
      "image/png": "[encoded data removed]",
      "text/plain": [
       "<matplotlib.figure.Figure at 0xbc81be0>"
      ]
     },
     "metadata": {},
     "output_type": "display_data"
    }
   ],
   "source": [
    "ix = (dataf_censor['name'] == 'V Kohli')\n",
    "kohli = X[ix]\n",
    "ax = plt.subplot(2,1,2)\n",
    "aaf.predict_survival_function(kohli).plot(ax=ax)"
   ]
  },
  {
   "cell_type": "markdown",
   "metadata": {},
   "source": [
    "<a id='predict_steyn'></a>"
   ]
  },
  {
   "cell_type": "markdown",
   "metadata": {},
   "source": [
    "### Predict the survival rate of Dale Steyn"
   ]
  },
  {
   "cell_type": "code",
   "execution_count": 61,
   "metadata": {
    "collapsed": false
   },
   "outputs": [
    {
     "data": {
      "text/plain": [
       "<matplotlib.axes._subplots.AxesSubplot at 0xc3417b8>"
      ]
     },
     "execution_count": 61,
     "metadata": {},
     "output_type": "execute_result"
    },
    {
     "data": {
      "image/png": "[encoded data removed]",
      "text/plain": [
       "<matplotlib.figure.Figure at 0xa8e8780>"
      ]
     },
     "metadata": {},
     "output_type": "display_data"
    }
   ],
   "source": [
    "ix = (dataf_censor['name'] == 'DW Steyn')\n",
    "steyn = X[ix]\n",
    "ax = plt.subplot(2,1,2)\n",
    "aaf.predict_survival_function(steyn).plot(ax=ax)"
   ]
  },
  {
   "cell_type": "markdown",
   "metadata": {},
   "source": [
    "<a id='caveats_regression'></a>"
   ]
  },
  {
   "cell_type": "markdown",
   "metadata": {
    "collapsed": true
   },
   "source": [
    "###  Weakness of this model"
   ]
  },
  {
   "cell_type": "markdown",
   "metadata": {},
   "source": [
    "* This model takes only 3 factors into concern : \n",
    "    1. Country\n",
    "    2. Era the player belongs to\n",
    "    3. Role of player\n",
    "\n",
    "\n",
    "* There are many other factors that affect the career of the player, such as health, injury, consistency, dedication, honesty in playing the game (not getting banned), etc.\n",
    "\n",
    "\n",
    "* However, these factors are not quantifiable and even if they are, it is very difficult to generate such data for all the players.\n",
    "\n",
    "\n",
    "* Under these limitations of the model, it may look like for example, any Indian batsman who makes his debut after 2007 will have the same survival rate as that of  Virat Kohli.\n",
    "\n",
    "\n",
    "* But if further factors are taken into concern, then the survival rates will be very different and can be more useful."
   ]
  }
 ],
 "metadata": {
  "kernelspec": {
   "display_name": "Python 2",
   "language": "python",
   "name": "python2"
  },
  "language_info": {
   "codemirror_mode": {
    "name": "ipython",
    "version": 2
   },
   "file_extension": ".py",
   "mimetype": "text/x-python",
   "name": "python",
   "nbconvert_exporter": "python",
   "pygments_lexer": "ipython2",
   "version": "2.7.11"
  }
 },
 "nbformat": 4,
 "nbformat_minor": 0
}
